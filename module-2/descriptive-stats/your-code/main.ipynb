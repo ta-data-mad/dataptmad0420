{
 "cells": [
  {
   "cell_type": "markdown",
   "metadata": {},
   "source": [
    "# Understanding Descriptive Statistics\n",
    "\n",
    "Import the necessary libraries here:"
   ]
  },
  {
   "cell_type": "code",
   "execution_count": 1,
   "metadata": {},
   "outputs": [],
   "source": [
    "# Libraries\n",
    "\n",
    "import pandas as pd\n",
    "import matplotlib as plt\n",
    "import random\n",
    "import numpy as np"
   ]
  },
  {
   "cell_type": "markdown",
   "metadata": {},
   "source": [
    "## Challenge 1\n",
    "#### 1.- Define a function that simulates rolling a dice 10 times. Save the information in a dataframe.\n",
    "**Hint**: you can use the *choices* function from module *random* to help you with the simulation."
   ]
  },
  {
   "cell_type": "code",
   "execution_count": 2,
   "metadata": {},
   "outputs": [],
   "source": [
    "# your code here\n",
    "\n",
    "def dice(n):\n",
    " numberList = [i for i in range (n) ]\n",
    " lista=[]\n",
    " for i in range (n):\n",
    "     a = lista.append(random.choice(numberList))\n",
    "     d = {'outcome_number':[random.randrange(1,10) for i in range(n)] }\n",
    "     df = pd.DataFrame(data=d , index=[i for i in range (n) ])\n",
    "     \n",
    " return df"
   ]
  },
  {
   "cell_type": "markdown",
   "metadata": {},
   "source": [
    "#### 2.- Plot the results sorted by value."
   ]
  },
  {
   "cell_type": "code",
   "execution_count": 3,
   "metadata": {},
   "outputs": [
    {
     "data": {
      "text/html": [
       "<div>\n",
       "<style scoped>\n",
       "    .dataframe tbody tr th:only-of-type {\n",
       "        vertical-align: middle;\n",
       "    }\n",
       "\n",
       "    .dataframe tbody tr th {\n",
       "        vertical-align: top;\n",
       "    }\n",
       "\n",
       "    .dataframe thead th {\n",
       "        text-align: right;\n",
       "    }\n",
       "</style>\n",
       "<table border=\"1\" class=\"dataframe\">\n",
       "  <thead>\n",
       "    <tr style=\"text-align: right;\">\n",
       "      <th></th>\n",
       "      <th># of rolling attemp</th>\n",
       "      <th>outcome_number</th>\n",
       "    </tr>\n",
       "  </thead>\n",
       "  <tbody>\n",
       "    <tr>\n",
       "      <th>4</th>\n",
       "      <td>4</td>\n",
       "      <td>2</td>\n",
       "    </tr>\n",
       "    <tr>\n",
       "      <th>5</th>\n",
       "      <td>5</td>\n",
       "      <td>2</td>\n",
       "    </tr>\n",
       "    <tr>\n",
       "      <th>2</th>\n",
       "      <td>2</td>\n",
       "      <td>3</td>\n",
       "    </tr>\n",
       "    <tr>\n",
       "      <th>7</th>\n",
       "      <td>7</td>\n",
       "      <td>3</td>\n",
       "    </tr>\n",
       "    <tr>\n",
       "      <th>9</th>\n",
       "      <td>9</td>\n",
       "      <td>3</td>\n",
       "    </tr>\n",
       "    <tr>\n",
       "      <th>1</th>\n",
       "      <td>1</td>\n",
       "      <td>4</td>\n",
       "    </tr>\n",
       "    <tr>\n",
       "      <th>3</th>\n",
       "      <td>3</td>\n",
       "      <td>4</td>\n",
       "    </tr>\n",
       "    <tr>\n",
       "      <th>0</th>\n",
       "      <td>0</td>\n",
       "      <td>8</td>\n",
       "    </tr>\n",
       "    <tr>\n",
       "      <th>8</th>\n",
       "      <td>8</td>\n",
       "      <td>8</td>\n",
       "    </tr>\n",
       "    <tr>\n",
       "      <th>6</th>\n",
       "      <td>6</td>\n",
       "      <td>9</td>\n",
       "    </tr>\n",
       "  </tbody>\n",
       "</table>\n",
       "</div>"
      ],
      "text/plain": [
       "   # of rolling attemp  outcome_number\n",
       "4                    4               2\n",
       "5                    5               2\n",
       "2                    2               3\n",
       "7                    7               3\n",
       "9                    9               3\n",
       "1                    1               4\n",
       "3                    3               4\n",
       "0                    0               8\n",
       "8                    8               8\n",
       "6                    6               9"
      ]
     },
     "metadata": {},
     "output_type": "display_data"
    },
    {
     "data": {
      "text/plain": [
       "<matplotlib.axes._subplots.AxesSubplot at 0x7fe5e50a1c88>"
      ]
     },
     "execution_count": 3,
     "metadata": {},
     "output_type": "execute_result"
    },
    {
     "data": {
      "image/png": "[encoded data removed]",
      "text/plain": [
       "<Figure size 432x288 with 1 Axes>"
      ]
     },
     "metadata": {
      "needs_background": "light"
     },
     "output_type": "display_data"
    }
   ],
   "source": [
    "# your code here\n",
    "rep = dice(10) #10 times rolling\n",
    "\n",
    "rep = rep.reset_index().sort_values(by=['outcome_number'], ascending= True)\n",
    "rep.rename(columns={\"index\": \"# of rolling attemp\"}, inplace = True)\n",
    "display(rep)\n",
    "rep.plot(x= '# of rolling attemp' , y = 'outcome_number' , kind= 'scatter')"
   ]
  },
  {
   "cell_type": "code",
   "execution_count": null,
   "metadata": {},
   "outputs": [],
   "source": []
  },
  {
   "cell_type": "markdown",
   "metadata": {},
   "source": [
    "#### 3.- Calculate the frequency distribution and plot it. What is the relation between this plot and the plot above? Describe it with words."
   ]
  },
  {
   "cell_type": "code",
   "execution_count": 4,
   "metadata": {},
   "outputs": [
    {
     "data": {
      "text/plain": [
       "array([[<matplotlib.axes._subplots.AxesSubplot object at 0x7fe5e47f01d0>,\n",
       "        <matplotlib.axes._subplots.AxesSubplot object at 0x7fe5e47a20b8>]],\n",
       "      dtype=object)"
      ]
     },
     "execution_count": 4,
     "metadata": {},
     "output_type": "execute_result"
    },
    {
     "data": {
      "image/png": "[encoded data removed]",
      "text/plain": [
       "<Figure size 432x288 with 2 Axes>"
      ]
     },
     "metadata": {
      "needs_background": "light"
     },
     "output_type": "display_data"
    }
   ],
   "source": [
    "# your code here\n",
    "\n",
    "rep.hist()\n",
    "\n"
   ]
  },
  {
   "cell_type": "code",
   "execution_count": 5,
   "metadata": {},
   "outputs": [
    {
     "data": {
      "text/plain": [
       "'\\nyour comments here\\n\\nBoth graphs show the same value as we are representing the frequency distribution of rolling 10 time a dice.\\nIt shows how many times a number comes out after 10 rolls\\n\\n'"
      ]
     },
     "execution_count": 5,
     "metadata": {},
     "output_type": "execute_result"
    }
   ],
   "source": [
    "\"\"\"\n",
    "your comments here\n",
    "\n",
    "Both graphs show the same value as we are representing the frequency distribution of rolling 10 time a dice.\n",
    "It shows how many times a number comes out after 10 rolls\n",
    "\n",
    "\"\"\""
   ]
  },
  {
   "cell_type": "markdown",
   "metadata": {},
   "source": [
    "## Challenge 2\n",
    "Now, using the dice results obtained in *challenge 1*, your are going to define some functions that will help you calculate the mean of your data in two different ways, the median and the four quartiles. \n",
    "\n",
    "#### 1.- Define a function that computes the mean by summing all the observations and dividing by the total number of observations. You are not allowed to use any methods or functions that directly calculate the mean value. "
   ]
  },
  {
   "cell_type": "code",
   "execution_count": 6,
   "metadata": {},
   "outputs": [],
   "source": [
    "# your code here\n",
    "\n",
    "def mean(rep):\n",
    "    \n",
    "    mean = rep['outcome_number'].sum() /  len(rep['outcome_number'])\n",
    "                                              \n",
    "    return mean"
   ]
  },
  {
   "cell_type": "code",
   "execution_count": 7,
   "metadata": {},
   "outputs": [
    {
     "data": {
      "text/plain": [
       "4.6"
      ]
     },
     "execution_count": 7,
     "metadata": {},
     "output_type": "execute_result"
    }
   ],
   "source": [
    "mean(rep)"
   ]
  },
  {
   "cell_type": "markdown",
   "metadata": {},
   "source": [
    "#### 2.- First, calculate the frequency distribution. Then, calculate the mean using the values of the frequency distribution you've just computed. You are not allowed to use any methods or functions that directly calculate the mean value. "
   ]
  },
  {
   "cell_type": "code",
   "execution_count": 8,
   "metadata": {},
   "outputs": [],
   "source": [
    "# your code here\n",
    "\n",
    "def freq(rep):\n",
    " freq = rep['outcome_number'].value_counts() \n",
    " mean = sum(rep['outcome_number'].value_counts() ) / len(rep['outcome_number'].value_counts() )\n",
    " return f'This is the freq distribution:',freq , f'This is the mean of the freq distribution:',mean"
   ]
  },
  {
   "cell_type": "code",
   "execution_count": 9,
   "metadata": {},
   "outputs": [
    {
     "data": {
      "text/plain": [
       "('This is the freq distribution:',\n",
       " 3    3\n",
       " 8    2\n",
       " 4    2\n",
       " 2    2\n",
       " 9    1\n",
       " Name: outcome_number, dtype: int64,\n",
       " 'This is the mean of the freq distribution:',\n",
       " 2.0)"
      ]
     },
     "execution_count": 9,
     "metadata": {},
     "output_type": "execute_result"
    }
   ],
   "source": [
    "freq(rep)"
   ]
  },
  {
   "cell_type": "markdown",
   "metadata": {},
   "source": [
    "#### 3.- Define a function to calculate the median. You are not allowed to use any methods or functions that directly calculate the median value. \n",
    "**Hint**: you might need to define two computation cases depending on the number of observations used to calculate the median."
   ]
  },
  {
   "cell_type": "code",
   "execution_count": 10,
   "metadata": {},
   "outputs": [],
   "source": [
    "# your code here\n",
    "\n",
    "def median(rep):\n",
    "    n_num = rep['outcome_number']\n",
    "    #print(n_num)\n",
    "    n = len(n_num) \n",
    "     \n",
    "\n",
    "    if n % 2 == 0: \n",
    "        median1 = n_num[n//2] \n",
    "        median2 = n_num[n//2 - 1] \n",
    "        median = (median1 + median2)/2\n",
    "    else: \n",
    "        median = n_num[n//2] \n",
    "    #print(\"Median is: \" + str(median)) \n",
    "    return print(median-1)"
   ]
  },
  {
   "cell_type": "code",
   "execution_count": 11,
   "metadata": {},
   "outputs": [
    {
     "name": "stdout",
     "output_type": "stream",
     "text": [
      "1.0\n"
     ]
    }
   ],
   "source": [
    "median(rep)"
   ]
  },
  {
   "cell_type": "code",
   "execution_count": null,
   "metadata": {},
   "outputs": [],
   "source": []
  },
  {
   "cell_type": "code",
   "execution_count": null,
   "metadata": {},
   "outputs": [],
   "source": []
  },
  {
   "cell_type": "markdown",
   "metadata": {},
   "source": [
    "#### 4.- Define a function to calculate the four quartiles. You can use the function you defined above to compute the median but you are not allowed to use any methods or functions that directly calculate the quartiles. "
   ]
  },
  {
   "cell_type": "code",
   "execution_count": 12,
   "metadata": {},
   "outputs": [
    {
     "name": "stdout",
     "output_type": "stream",
     "text": [
      "(Q1, median, Q3): [2.5, 3.5, 8.0]\n"
     ]
    }
   ],
   "source": [
    "# your code here\n",
    "\n",
    "samples = sorted(rep['outcome_number'])\n",
    "\n",
    "def find_median(sorted_list):\n",
    "    indices = []\n",
    "\n",
    "    list_size = len(sorted_list)\n",
    "    median = 0\n",
    "\n",
    "    if list_size % 2 == 0:\n",
    "        indices.append(int(list_size / 2) - 1)  # -1 because index starts from 0\n",
    "        indices.append(int(list_size / 2))\n",
    "\n",
    "        median = (sorted_list[indices[0]] + sorted_list[indices[1]]) / 2\n",
    "        pass\n",
    "    else:\n",
    "        indices.append(int(list_size / 2))\n",
    "\n",
    "        median = sorted_list[indices[0]]\n",
    "        pass\n",
    "\n",
    "    return median, indices\n",
    "    pass\n",
    "\n",
    "median, median_indices = find_median(samples)\n",
    "Q1, Q1_indices = find_median(samples[:median_indices[0]])\n",
    "Q2, Q2_indices = find_median(samples[median_indices[-1] + 1:])\n",
    "\n",
    "quartiles = [Q1, median, Q2]\n",
    "\n",
    "print(\"(Q1, median, Q3): {}\".format(quartiles)) \n",
    "\n"
   ]
  },
  {
   "cell_type": "code",
   "execution_count": 13,
   "metadata": {},
   "outputs": [
    {
     "name": "stdout",
     "output_type": "stream",
     "text": [
      "Comprobación count    10.000000\n",
      "mean      4.600000\n",
      "std       2.674987\n",
      "min       2.000000\n",
      "25%       3.000000\n",
      "50%       3.500000\n",
      "75%       7.000000\n",
      "max       9.000000\n",
      "Name: outcome_number, dtype: float64\n"
     ]
    }
   ],
   "source": [
    "print(f'Comprobación' ,rep['outcome_number'].describe()) # the function does not provide high acuracy"
   ]
  },
  {
   "cell_type": "markdown",
   "metadata": {},
   "source": [
    "## Challenge 3\n",
    "Read the csv `roll_the_dice_hundred.csv` from the `data` folder.\n",
    "#### 1.- Sort the values and plot them. What do you see?"
   ]
  },
  {
   "cell_type": "code",
   "execution_count": 14,
   "metadata": {},
   "outputs": [
    {
     "data": {
      "text/plain": [
       "count    100.000000\n",
       "mean       3.740000\n",
       "std        1.703354\n",
       "min        1.000000\n",
       "25%        2.000000\n",
       "50%        4.000000\n",
       "75%        5.000000\n",
       "max        6.000000\n",
       "Name: value, dtype: float64"
      ]
     },
     "metadata": {},
     "output_type": "display_data"
    },
    {
     "data": {
      "text/plain": [
       "<matplotlib.axes._subplots.AxesSubplot at 0x7fe5e46ea278>"
      ]
     },
     "execution_count": 14,
     "metadata": {},
     "output_type": "execute_result"
    },
    {
     "data": {
      "image/png": "[encoded data removed]",
      "text/plain": [
       "<Figure size 432x288 with 1 Axes>"
      ]
     },
     "metadata": {
      "needs_background": "light"
     },
     "output_type": "display_data"
    }
   ],
   "source": [
    "# your code here\n",
    "\n",
    "data = pd.read_csv(\"/home/jc/Escritorio/Github_labs/dataptmad0420/module-2/descriptive-stats/data/roll_the_dice_hundred.csv\")\n",
    "\n",
    "\n",
    "data = data.sort_values(by=['value'], ascending= False)\n",
    "display(data['value'].describe())\n",
    "\n",
    "data.describe()\n",
    "\n",
    "#data.plot(x = 'roll' , y='value' , kind= 'scatter', figsize= (10,10))\n",
    "\n",
    "data['value'].hist()"
   ]
  },
  {
   "cell_type": "code",
   "execution_count": 15,
   "metadata": {},
   "outputs": [
    {
     "data": {
      "text/plain": [
       "'\\nyour comments here\\n\\nOut of 100 attemps , number 4 & 6 are the most frequent\\n\\n'"
      ]
     },
     "execution_count": 15,
     "metadata": {},
     "output_type": "execute_result"
    }
   ],
   "source": [
    "\"\"\"\n",
    "your comments here\n",
    "\n",
    "Out of 100 attemps , number 4 & 6 are the most frequent\n",
    "\n",
    "\"\"\""
   ]
  },
  {
   "cell_type": "markdown",
   "metadata": {},
   "source": [
    "#### 2.- Using the functions you defined in *challenge 2*, calculate the mean value of the hundred dice rolls."
   ]
  },
  {
   "cell_type": "code",
   "execution_count": 16,
   "metadata": {},
   "outputs": [],
   "source": [
    "# your code here\n",
    "\n",
    "def mean(data):\n",
    "    \n",
    "    mean = data['value'].sum() /  len(data['value'])\n",
    "                                              \n",
    "    return mean"
   ]
  },
  {
   "cell_type": "code",
   "execution_count": 17,
   "metadata": {},
   "outputs": [
    {
     "data": {
      "text/plain": [
       "3.74"
      ]
     },
     "execution_count": 17,
     "metadata": {},
     "output_type": "execute_result"
    }
   ],
   "source": [
    "mean(data)"
   ]
  },
  {
   "cell_type": "markdown",
   "metadata": {},
   "source": [
    "#### 3.- Now, calculate the frequency distribution.\n"
   ]
  },
  {
   "cell_type": "code",
   "execution_count": 18,
   "metadata": {},
   "outputs": [],
   "source": [
    "# your code here\n",
    "\n",
    "def freq(data):\n",
    " freq = data['value'].value_counts() \n",
    " mean = sum(data['value'].value_counts() ) / len(data['value'].value_counts() )\n",
    " return f'This is the freq distribution:',freq , f'This is the mean of the freq distribution:',mean"
   ]
  },
  {
   "cell_type": "code",
   "execution_count": 19,
   "metadata": {},
   "outputs": [
    {
     "data": {
      "text/plain": [
       "('This is the freq distribution:',\n",
       " 6    23\n",
       " 4    22\n",
       " 2    17\n",
       " 3    14\n",
       " 5    12\n",
       " 1    12\n",
       " Name: value, dtype: int64,\n",
       " 'This is the mean of the freq distribution:',\n",
       " 16.666666666666668)"
      ]
     },
     "execution_count": 19,
     "metadata": {},
     "output_type": "execute_result"
    }
   ],
   "source": [
    "freq(data)"
   ]
  },
  {
   "cell_type": "markdown",
   "metadata": {},
   "source": [
    "#### 4.- Plot the histogram. What do you see (shape, values...) ? How can you connect the mean value to the histogram? "
   ]
  },
  {
   "cell_type": "code",
   "execution_count": 20,
   "metadata": {},
   "outputs": [
    {
     "data": {
      "text/plain": [
       "<matplotlib.axes._subplots.AxesSubplot at 0x7fe5e4669e80>"
      ]
     },
     "execution_count": 20,
     "metadata": {},
     "output_type": "execute_result"
    },
    {
     "data": {
      "image/png": "[encoded data removed]",
      "text/plain": [
       "<Figure size 432x288 with 1 Axes>"
      ]
     },
     "metadata": {
      "needs_background": "light"
     },
     "output_type": "display_data"
    }
   ],
   "source": [
    "# your code here\n",
    "\n",
    "data['value'].hist()"
   ]
  },
  {
   "cell_type": "code",
   "execution_count": 21,
   "metadata": {},
   "outputs": [
    {
     "data": {
      "text/plain": [
       "'\\nyour comments here\\n\\nThe mean does not give that many info as you already know that a dice has 6 faces so the mean will be close to 3.5. If there are more outcomes bigger that 3 , the average will increase otherwise it will decrease\\n'"
      ]
     },
     "execution_count": 21,
     "metadata": {},
     "output_type": "execute_result"
    }
   ],
   "source": [
    "\"\"\"\n",
    "your comments here\n",
    "\n",
    "The mean does not give that many info as you already know that a dice has 6 faces so the mean will be close to 3.5. If there are more outcomes bigger that 3 , the average will increase otherwise it will decrease\n",
    "\"\"\""
   ]
  },
  {
   "cell_type": "markdown",
   "metadata": {},
   "source": [
    "#### 5.- Read the `roll_the_dice_thousand.csv` from the `data` folder. Plot the frequency distribution as you did before. Has anything changed? Why do you think it changed?"
   ]
  },
  {
   "cell_type": "code",
   "execution_count": 22,
   "metadata": {},
   "outputs": [
    {
     "data": {
      "text/plain": [
       "count    1000.000000\n",
       "mean        3.447000\n",
       "std         1.711175\n",
       "min         1.000000\n",
       "25%         2.000000\n",
       "50%         3.000000\n",
       "75%         5.000000\n",
       "max         6.000000\n",
       "Name: value, dtype: float64"
      ]
     },
     "metadata": {},
     "output_type": "display_data"
    },
    {
     "data": {
      "text/plain": [
       "<matplotlib.axes._subplots.AxesSubplot at 0x7fe5e4591080>"
      ]
     },
     "execution_count": 22,
     "metadata": {},
     "output_type": "execute_result"
    },
    {
     "data": {
      "image/png": "[encoded data removed]",
      "text/plain": [
       "<Figure size 432x288 with 1 Axes>"
      ]
     },
     "metadata": {
      "needs_background": "light"
     },
     "output_type": "display_data"
    }
   ],
   "source": [
    "# your code here\n",
    "\n",
    "data = pd.read_csv(\"/home/jc/Escritorio/Github_labs/dataptmad0420/module-2/descriptive-stats/data/roll_the_dice_thousand.csv\")\n",
    "data = data.sort_values(by=['value'], ascending= False)\n",
    "display(data['value'].describe())\n",
    "\n",
    "data.describe()\n",
    "\n",
    "#data.plot(x = 'roll' , y='value' , kind= 'scatter', figsize= (10,10))\n",
    "\n",
    "data['value'].hist()"
   ]
  },
  {
   "cell_type": "code",
   "execution_count": 23,
   "metadata": {},
   "outputs": [
    {
     "data": {
      "text/plain": [
       "'\\nyour comments here\\n\\nAs we can see above the values obtained is similar across the dataset. The more times we roll the dice the more likely we values will compensate\\n'"
      ]
     },
     "execution_count": 23,
     "metadata": {},
     "output_type": "execute_result"
    }
   ],
   "source": [
    "\"\"\"\n",
    "your comments here\n",
    "\n",
    "As we can see above the values obtained is similar across the dataset. The more times we roll the dice the more likely we values will compensate\n",
    "\"\"\""
   ]
  },
  {
   "cell_type": "markdown",
   "metadata": {},
   "source": [
    "## Challenge 4\n",
    "In the `data` folder of this repository you will find three different files with the prefix `ages_population`. These files contain information about a poll answered by a thousand people regarding their age. Each file corresponds to the poll answers in different neighbourhoods of Barcelona.\n",
    "\n",
    "#### 1.- Read the file `ages_population.csv`. Calculate the frequency distribution and plot it as we did during the lesson. Try to guess the range in which the mean and the standard deviation will be by looking at the plot. "
   ]
  },
  {
   "cell_type": "code",
   "execution_count": 24,
   "metadata": {},
   "outputs": [
    {
     "name": "stdout",
     "output_type": "stream",
     "text": [
      "Guess: mean = 40 & St = 1.5\n"
     ]
    },
    {
     "data": {
      "image/png": "[encoded data removed]",
      "text/plain": [
       "<Figure size 432x288 with 1 Axes>"
      ]
     },
     "metadata": {
      "needs_background": "light"
     },
     "output_type": "display_data"
    }
   ],
   "source": [
    "# your code here\n",
    "\n",
    "data = pd.read_csv(\"/home/jc/Escritorio/Github_labs/dataptmad0420/module-2/descriptive-stats/data/ages_population.csv\")\n",
    "                   \n",
    "#data = data.sort_values(by=['value'], ascending= False)\n",
    "#display(data['value'].describe())\n",
    "\n",
    "\n",
    "data.head()\n",
    "\n",
    "data.hist()\n",
    "\n",
    "print('Guess: mean = 40 & St = 1.5')\n",
    "\n",
    "#data.plot(x = 'roll' , y='value' , kind= 'scatter', figsize= (10,10))\n",
    "\n",
    "#data['value'].hist()"
   ]
  },
  {
   "cell_type": "markdown",
   "metadata": {},
   "source": [
    "#### 2.- Calculate the exact mean and standard deviation and compare them with your guesses. Do they fall inside the ranges you guessed?"
   ]
  },
  {
   "cell_type": "code",
   "execution_count": 25,
   "metadata": {},
   "outputs": [
    {
     "name": "stdout",
     "output_type": "stream",
     "text": [
      "mean: observation    36.56\n",
      "dtype: float64\n",
      "std: observation    12.8165\n",
      "dtype: float64\n"
     ]
    }
   ],
   "source": [
    "# your code here\n",
    "\n",
    "print(f'mean:',data.mean())\n",
    "print(f'std:',data.std())\n"
   ]
  },
  {
   "cell_type": "code",
   "execution_count": 26,
   "metadata": {},
   "outputs": [
    {
     "data": {
      "text/plain": [
       "'\\nyour comments here\\n\\nThe mean was close to the one I said but definetely I was wrong about Std\\n'"
      ]
     },
     "execution_count": 26,
     "metadata": {},
     "output_type": "execute_result"
    }
   ],
   "source": [
    "\"\"\"\n",
    "your comments here\n",
    "\n",
    "The mean was close to the one I said but definetely I was wrong about Std\n",
    "\"\"\""
   ]
  },
  {
   "cell_type": "markdown",
   "metadata": {},
   "source": [
    "#### 3.- Now read the file `ages_population2.csv` . Calculate the frequency distribution and plot it."
   ]
  },
  {
   "cell_type": "code",
   "execution_count": 27,
   "metadata": {},
   "outputs": [
    {
     "data": {
      "text/plain": [
       "array([[<matplotlib.axes._subplots.AxesSubplot object at 0x7fe5e467fba8>]],\n",
       "      dtype=object)"
      ]
     },
     "execution_count": 27,
     "metadata": {},
     "output_type": "execute_result"
    },
    {
     "data": {
      "image/png": "[encoded data removed]",
      "text/plain": [
       "<Figure size 432x288 with 1 Axes>"
      ]
     },
     "metadata": {
      "needs_background": "light"
     },
     "output_type": "display_data"
    }
   ],
   "source": [
    "# your code here\n",
    "\n",
    "data = pd.read_csv(\"/home/jc/Escritorio/Github_labs/dataptmad0420/module-2/descriptive-stats/data/ages_population2.csv\")\n",
    "                   \n",
    "#data = data.sort_values(by=['value'], ascending= False)\n",
    "#display(data['value'].describe())\n",
    "\n",
    "\n",
    "data.head()\n",
    "\n",
    "data.hist()\n",
    "\n",
    "\n",
    "#data.plot(x = 'roll' , y='value' , kind= 'scatter', figsize= (10,10))\n",
    "\n",
    "#data['value'].hist()"
   ]
  },
  {
   "cell_type": "markdown",
   "metadata": {},
   "source": [
    "####  4.- What do you see? Is there any difference with the frequency distribution in step 1?"
   ]
  },
  {
   "cell_type": "code",
   "execution_count": 28,
   "metadata": {},
   "outputs": [
    {
     "data": {
      "text/plain": [
       "'\\nyour comments here\\n\\nDefinetely, this dataset is not equally distributed. Values 26 to 28 are the most repeated. This will affect the std and mean\\n'"
      ]
     },
     "execution_count": 28,
     "metadata": {},
     "output_type": "execute_result"
    }
   ],
   "source": [
    "\"\"\"\n",
    "your comments here\n",
    "\n",
    "Definetely, this dataset is not equally distributed. Values 26 to 28 are the most repeated. This will affect the std and mean\n",
    "\"\"\""
   ]
  },
  {
   "cell_type": "markdown",
   "metadata": {},
   "source": [
    "#### 5.- Calculate the mean and standard deviation. Compare the results with the mean and standard deviation in step 2. What do you think?"
   ]
  },
  {
   "cell_type": "code",
   "execution_count": 29,
   "metadata": {},
   "outputs": [
    {
     "name": "stdout",
     "output_type": "stream",
     "text": [
      "mean: observation    27.155\n",
      "dtype: float64\n",
      "std: observation    2.969814\n",
      "dtype: float64\n"
     ]
    }
   ],
   "source": [
    "# your code here\n",
    "print(f'mean:',data.mean())\n",
    "print(f'std:',data.std())"
   ]
  },
  {
   "cell_type": "code",
   "execution_count": 30,
   "metadata": {},
   "outputs": [
    {
     "data": {
      "text/plain": [
       "'\\nyour comments here\\n\\nThe second plot tells us that the values are less disperse in the dataset (more concentrated).\\nThis neighbourhood is quite young, average of 27 years old\\n'"
      ]
     },
     "execution_count": 30,
     "metadata": {},
     "output_type": "execute_result"
    }
   ],
   "source": [
    "\"\"\"\n",
    "your comments here\n",
    "\n",
    "The second plot tells us that the values are less disperse in the dataset (more concentrated).\n",
    "This neighbourhood is quite young, average of 27 years old\n",
    "\"\"\""
   ]
  },
  {
   "cell_type": "markdown",
   "metadata": {},
   "source": [
    "## Challenge 5\n",
    "Now is the turn of `ages_population3.csv`.\n",
    "\n",
    "#### 1.- Read the file `ages_population3.csv`. Calculate the frequency distribution and plot it."
   ]
  },
  {
   "cell_type": "code",
   "execution_count": 31,
   "metadata": {},
   "outputs": [
    {
     "data": {
      "text/plain": [
       "array([[<matplotlib.axes._subplots.AxesSubplot object at 0x7fe5e4461eb8>]],\n",
       "      dtype=object)"
      ]
     },
     "execution_count": 31,
     "metadata": {},
     "output_type": "execute_result"
    },
    {
     "data": {
      "image/png": "[encoded data removed]",
      "text/plain": [
       "<Figure size 432x288 with 1 Axes>"
      ]
     },
     "metadata": {
      "needs_background": "light"
     },
     "output_type": "display_data"
    }
   ],
   "source": [
    "# your code here\n",
    "\n",
    "data = pd.read_csv(\"/home/jc/Escritorio/Github_labs/dataptmad0420/module-2/descriptive-stats/data/ages_population3.csv\")\n",
    "                   \n",
    "#data = data.sort_values(by=['value'], ascending= False)\n",
    "#display(data['value'].describe())\n",
    "\n",
    "\n",
    "data.head()\n",
    "\n",
    "data.hist()\n",
    "\n"
   ]
  },
  {
   "cell_type": "markdown",
   "metadata": {},
   "source": [
    "#### 2.- Calculate the mean and standard deviation. Compare the results with the plot in step 1. What is happening?"
   ]
  },
  {
   "cell_type": "code",
   "execution_count": 32,
   "metadata": {},
   "outputs": [
    {
     "name": "stdout",
     "output_type": "stream",
     "text": [
      "mean: observation    41.989\n",
      "dtype: float64\n",
      "std: observation    16.144706\n",
      "dtype: float64\n"
     ]
    }
   ],
   "source": [
    "# your code here\n",
    "\n",
    "# your code here\n",
    "print(f'mean:',data.mean())\n",
    "print(f'std:',data.std())"
   ]
  },
  {
   "cell_type": "code",
   "execution_count": 33,
   "metadata": {},
   "outputs": [
    {
     "data": {
      "text/plain": [
       "'\\nyour comments here\\n\\nWe can see that the values are moving to the right, which means that they are moving towards the third quantile\\n'"
      ]
     },
     "execution_count": 33,
     "metadata": {},
     "output_type": "execute_result"
    }
   ],
   "source": [
    "\"\"\"\n",
    "your comments here\n",
    "\n",
    "We can see that the values are moving to the right, which means that they are moving towards the third quantile\n",
    "\"\"\""
   ]
  },
  {
   "cell_type": "markdown",
   "metadata": {},
   "source": [
    "#### 3.- Calculate the four quartiles. Use the results to explain your reasoning for question in step 2. How much of a difference is there between the median and the mean?"
   ]
  },
  {
   "cell_type": "code",
   "execution_count": 34,
   "metadata": {},
   "outputs": [
    {
     "name": "stdout",
     "output_type": "stream",
     "text": [
      "lenght of dataset: 1000\n",
      "1 quantile: 1.0\n",
      "2 quantile: 30.0\n",
      "3 quantile: 40.0\n",
      "4 quantile: 53.0\n",
      "5 quantile: 77.0\n",
      "mean: observation    41.989\n",
      "dtype: float64\n",
      "median: observation    40.0\n",
      "dtype: float64\n"
     ]
    }
   ],
   "source": [
    "# your code here\n",
    "\n",
    "\n",
    "print(f'lenght of dataset:', len(data))\n",
    "\n",
    "print(f'1 quantile:',np.percentile(data, 0))  \n",
    "print(f'2 quantile:',np.percentile(data, 25))  \n",
    "print(f'3 quantile:',np.percentile(data, 50))  \n",
    "print(f'4 quantile:',np.percentile(data, 75))  \n",
    "print(f'5 quantile:',np.percentile(data, 100))\n",
    "\n",
    "\n",
    "\n",
    "print(f'mean:',data.mean())\n",
    "print(f'median:',data.median())"
   ]
  },
  {
   "cell_type": "code",
   "execution_count": 35,
   "metadata": {},
   "outputs": [
    {
     "data": {
      "text/plain": [
       "'\\nyour comments here\\n\\nThe difference between median and mean is almost 2 points. This means that the value 40 splits the dataset in 2 equal parts. \\n'"
      ]
     },
     "execution_count": 35,
     "metadata": {},
     "output_type": "execute_result"
    }
   ],
   "source": [
    "\"\"\"\n",
    "your comments here\n",
    "\n",
    "The difference between median and mean is almost 2 points. This means that the value 40 splits the dataset in 2 equal parts. \n",
    "\"\"\""
   ]
  },
  {
   "cell_type": "markdown",
   "metadata": {},
   "source": [
    "#### 4.- Calculate other percentiles that might be useful to give more arguments to your reasoning."
   ]
  },
  {
   "cell_type": "code",
   "execution_count": 36,
   "metadata": {},
   "outputs": [
    {
     "data": {
      "text/html": [
       "<div>\n",
       "<style scoped>\n",
       "    .dataframe tbody tr th:only-of-type {\n",
       "        vertical-align: middle;\n",
       "    }\n",
       "\n",
       "    .dataframe tbody tr th {\n",
       "        vertical-align: top;\n",
       "    }\n",
       "\n",
       "    .dataframe thead th {\n",
       "        text-align: right;\n",
       "    }\n",
       "</style>\n",
       "<table border=\"1\" class=\"dataframe\">\n",
       "  <thead>\n",
       "    <tr style=\"text-align: right;\">\n",
       "      <th></th>\n",
       "      <th>observation</th>\n",
       "    </tr>\n",
       "  </thead>\n",
       "  <tbody>\n",
       "    <tr>\n",
       "      <th>count</th>\n",
       "      <td>1000.000000</td>\n",
       "    </tr>\n",
       "    <tr>\n",
       "      <th>mean</th>\n",
       "      <td>41.989000</td>\n",
       "    </tr>\n",
       "    <tr>\n",
       "      <th>std</th>\n",
       "      <td>16.144706</td>\n",
       "    </tr>\n",
       "    <tr>\n",
       "      <th>min</th>\n",
       "      <td>1.000000</td>\n",
       "    </tr>\n",
       "    <tr>\n",
       "      <th>25%</th>\n",
       "      <td>30.000000</td>\n",
       "    </tr>\n",
       "    <tr>\n",
       "      <th>50%</th>\n",
       "      <td>40.000000</td>\n",
       "    </tr>\n",
       "    <tr>\n",
       "      <th>75%</th>\n",
       "      <td>53.000000</td>\n",
       "    </tr>\n",
       "    <tr>\n",
       "      <th>max</th>\n",
       "      <td>77.000000</td>\n",
       "    </tr>\n",
       "  </tbody>\n",
       "</table>\n",
       "</div>"
      ],
      "text/plain": [
       "       observation\n",
       "count  1000.000000\n",
       "mean     41.989000\n",
       "std      16.144706\n",
       "min       1.000000\n",
       "25%      30.000000\n",
       "50%      40.000000\n",
       "75%      53.000000\n",
       "max      77.000000"
      ]
     },
     "metadata": {},
     "output_type": "display_data"
    },
    {
     "name": "stdout",
     "output_type": "stream",
     "text": [
      "Percentile 30: 32.0\n",
      "Percentile 45: 38.0\n"
     ]
    }
   ],
   "source": [
    "# your code here\n",
    "\n",
    "display(data.describe()) #thos table gives us the quantiles\n",
    "\n",
    "print(f'Percentile 30:' , np.percentile(data, 30)) \n",
    "print(f'Percentile 45:' ,np.percentile(data, 45)) \n"
   ]
  },
  {
   "cell_type": "code",
   "execution_count": 37,
   "metadata": {},
   "outputs": [
    {
     "data": {
      "text/plain": [
       "'\\nyour comments here\\n\\nDeep diving on the data frequency we can state that on the third neighbourhood respondants are older than neighbourhood 2 or 1.\\n'"
      ]
     },
     "execution_count": 37,
     "metadata": {},
     "output_type": "execute_result"
    }
   ],
   "source": [
    "\"\"\"\n",
    "your comments here\n",
    "\n",
    "Deep diving on the data frequency we can state that on the third neighbourhood respondants are older than neighbourhood 2 or 1.\n",
    "\"\"\""
   ]
  },
  {
   "cell_type": "markdown",
   "metadata": {},
   "source": [
    "## Bonus challenge\n",
    "Compare the information about the three neighbourhoods. Prepare a report about the three of them. Remember to find out which are their similarities and their differences backing your arguments in basic statistics."
   ]
  },
  {
   "cell_type": "code",
   "execution_count": 38,
   "metadata": {},
   "outputs": [],
   "source": [
    "# your code here"
   ]
  },
  {
   "cell_type": "code",
   "execution_count": 39,
   "metadata": {},
   "outputs": [
    {
     "data": {
      "text/plain": [
       "'\\nyour comments here\\n'"
      ]
     },
     "execution_count": 39,
     "metadata": {},
     "output_type": "execute_result"
    }
   ],
   "source": [
    "\"\"\"\n",
    "your comments here\n",
    "\"\"\""
   ]
  }
 ],
 "metadata": {
  "kernelspec": {
   "display_name": "Python [conda env:jupyter_env] *",
   "language": "python",
   "name": "conda-env-jupyter_env-py"
  },
  "language_info": {
   "codemirror_mode": {
    "name": "ipython",
    "version": 3
   },
   "file_extension": ".py",
   "mimetype": "text/x-python",
   "name": "python",
   "nbconvert_exporter": "python",
   "pygments_lexer": "ipython3",
   "version": "3.7.3"
  }
 },
 "nbformat": 4,
 "nbformat_minor": 4
}
