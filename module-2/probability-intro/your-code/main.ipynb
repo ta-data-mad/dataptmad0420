{
 "cells": [
  {
   "cell_type": "markdown",
   "metadata": {},
   "source": [
    "# Introduction To Probability\n",
    "## Challenge 1\n",
    "\n",
    "A and B are events of a probability space with $(\\omega, \\sigma, P)$ such that $P(A) = 0.3$, $P(B) = 0.6$ and $P(A \\cap B) = 0.1$\n",
    "\n",
    "Which of the following statements are false?\n",
    "* $P(A \\cup B) = 0.6$\n",
    "* $P(A \\cap B^{C}) = 0.2$\n",
    "* $P(A \\cap (B \\cup B^{C})) = 0.4$\n",
    "* $P(A^{C} \\cap B^{C}) = 0.3$\n",
    "* $P((A \\cap B)^{C}) = 0.9$"
   ]
  },
  {
   "cell_type": "code",
   "execution_count": 1,
   "metadata": {},
   "outputs": [
    {
     "data": {
      "text/plain": [
       "'\\nyour solution here\\n\\nP(A∪B) = P(A) + P(B) - P(A∩B) 0.6 + 0.3 - 0.1 = 0.8 -------------------------- != 0.6 --->Incorrect\\nP(A∩B̅) = P(A)·P(1 - P(B)) = 0.3 · (1 - 0.6) = 0.3·0.4 = 0.12 ----------------- != 0.2 --->Incorrect \\nP(A∩(B∪B̅)) = P(A)·(P(B) + P(B̅)) = 0.3·(0.6 + 0.4) = 0.3 ---------------------- != 0.4 --->Incorrect\\nP(A̅∩B̅) = P(1 - P(A)) · P(1 - P(B)) = 0.7·0.4 = 0.28 -------------------------- != 0.3 --->Incorrect\\nP((A∩B)^c) = P(1 - (P(A∩B))) = 1 - 0.1 = 0.9 ---------------------------------- = 0.9 --->Ccorrect\\n\\n'"
      ]
     },
     "execution_count": 1,
     "metadata": {},
     "output_type": "execute_result"
    }
   ],
   "source": [
    "\"\"\"\n",
    "your solution here\n",
    "\n",
    "P(A∪B) = P(A) + P(B) - P(A∩B) 0.6 + 0.3 - 0.1 = 0.8 -------------------------- != 0.6 --->Incorrect\n",
    "P(A∩B̅) = P(A)·P(1 - P(B)) = 0.3 · (1 - 0.6) = 0.3·0.4 = 0.12 ----------------- != 0.2 --->Incorrect \n",
    "P(A∩(B∪B̅)) = P(A)·(P(B) + P(B̅)) = 0.3·(0.6 + 0.4) = 0.3 ---------------------- != 0.4 --->Incorrect\n",
    "P(A̅∩B̅) = P(1 - P(A)) · P(1 - P(B)) = 0.7·0.4 = 0.28 -------------------------- != 0.3 --->Incorrect\n",
    "P((A∩B)^c) = P(1 - (P(A∩B))) = 1 - 0.1 = 0.9 ---------------------------------- = 0.9 --->Ccorrect\n",
    "\n",
    "\"\"\""
   ]
  },
  {
   "cell_type": "markdown",
   "metadata": {},
   "source": [
    "## Challenge 2\n",
    "There is a box with 10 white balls, 12 red balls and 8 black balls. Calculate the probability of:\n",
    "* Taking a white ball out.\n",
    "* Taking a white ball out after taking a black ball out.\n",
    "* Taking a red ball out after taking a black and a red ball out.\n",
    "* Taking a red ball out after taking a black and a red ball out with reposition.\n",
    "\n",
    "**Hint**: Reposition means putting back the ball into the box after taking it out."
   ]
  },
  {
   "cell_type": "code",
   "execution_count": 2,
   "metadata": {},
   "outputs": [
    {
     "data": {
      "text/plain": [
       "'\\nyour solution here\\n\\nP(Taking a white ball out) = 1/3\\nP(Taking a white ball out after taking a black ball out) = 10/29\\nP(Taking a red ball out after taking a black and a red ball out) = 11/28\\nP(Taking a red ball out after taking a black and a red ball out with reposition) = 2/5\\n'"
      ]
     },
     "execution_count": 2,
     "metadata": {},
     "output_type": "execute_result"
    }
   ],
   "source": [
    "\"\"\"\n",
    "your solution here\n",
    "\n",
    "P(Taking a white ball out) = 1/3\n",
    "P(Taking a white ball out after taking a black ball out) = 10/29\n",
    "P(Taking a red ball out after taking a black and a red ball out) = 11/28\n",
    "P(Taking a red ball out after taking a black and a red ball out with reposition) = 2/5\n",
    "\"\"\""
   ]
  },
  {
   "cell_type": "markdown",
   "metadata": {},
   "source": [
    "## Challenge 3\n",
    "\n",
    "You are planning to go on a picnic today but the morning is cloudy. You hate rain so you don't know whether to go out or stay home! To help you make a decision, you gather the following data about rainy days:\n",
    "\n",
    "* 50% of all rainy days start off cloudy!\n",
    "* Cloudy mornings are common. About 40% of days start cloudy. \n",
    "* This month is usually dry so only 3 of 30 days (10%) tend to be rainy. \n",
    "\n",
    "What is the chance of rain during the day?"
   ]
  },
  {
   "cell_type": "code",
   "execution_count": 3,
   "metadata": {},
   "outputs": [
    {
     "name": "stdout",
     "output_type": "stream",
     "text": [
      "\n",
      "P(A|B), which is the probability of rain during cloudy days is 12.5%\n"
     ]
    }
   ],
   "source": [
    "Hypothesis = 'A=Rain'\n",
    "Observed_data = 'B=Clouds'\n",
    "\n",
    "p_a = 0.1\n",
    "p_b = 0.4\n",
    "p_b_after_a = p_clouds_after_rain = 0.5\n",
    "\n",
    "p_a_after_b = p_rain_after_clouds = (p_a*p_b_after_a)/p_b\n",
    "\n",
    "print()\n",
    "print(f'P(A|B), which is the probability of rain during cloudy days is {p_a_after_b*100}%')"
   ]
  },
  {
   "cell_type": "markdown",
   "metadata": {},
   "source": [
    "## Challenge 4\n",
    "\n",
    "One thousand people were asked through a telephone survey whether they thought more street lighting is needed at night or not.\n",
    "\n",
    "Out of the 480 men that answered the survey, 324 said yes and 156 said no. On the other hand, out of the 520 women that answered, 351 said yes and 169 said no. \n",
    "\n",
    "We wonder if men and women have a different opinions about the street lighting matter. Is gender relevant or irrelevant to the question?\n",
    "\n",
    "Consider the following events:\n",
    "- The answer is yes, so the person that answered thinks that more street lighting is needed.\n",
    "- The person who answered is a man.\n",
    "\n",
    "We want to know if these events are independent, that is, if the fact of wanting more light depends on whether one is male or female. Are these events independent or not?\n",
    "\n",
    "**Hint**: To clearly compare the answers by gender, it is best to place the data in a table."
   ]
  },
  {
   "cell_type": "code",
   "execution_count": 4,
   "metadata": {},
   "outputs": [],
   "source": [
    "# your code here\n",
    "a = 'Man'\n",
    "b = 'Answer yes'\n",
    "\n",
    "p_a = 480/1000\n",
    "p_b_after_a = 324/480\n",
    "p_ā = 0.52\n",
    "p_b_after_ā = 351/520\n"
   ]
  },
  {
   "cell_type": "code",
   "execution_count": 5,
   "metadata": {},
   "outputs": [
    {
     "name": "stdout",
     "output_type": "stream",
     "text": [
      "\n",
      "The probability of a positive answer knowing it is a man, P(B|A) = 0.675, which is the same to the probability of a positive answer knowing it is not a man, P(B|Ā) = 0.675 \n"
     ]
    }
   ],
   "source": [
    "\"\"\"\n",
    "your solution here\n",
    "\"\"\"\n",
    "print()\n",
    "print(f'The probability of a positive answer knowing it is a man, P(B|A) = {p_b_after_a}, which is the same to the probability of a positive answer knowing it is not a man, P(B|Ā) = {p_b_after_ā} ')"
   ]
  },
  {
   "cell_type": "code",
   "execution_count": null,
   "metadata": {},
   "outputs": [],
   "source": []
  }
 ],
 "metadata": {
  "kernelspec": {
   "display_name": "Python [conda env:ironhack]",
   "language": "python",
   "name": "conda-env-ironhack-py"
  },
  "language_info": {
   "codemirror_mode": {
    "name": "ipython",
    "version": 3
   },
   "file_extension": ".py",
   "mimetype": "text/x-python",
   "name": "python",
   "nbconvert_exporter": "python",
   "pygments_lexer": "ipython3",
   "version": "3.7.7"
  }
 },
 "nbformat": 4,
 "nbformat_minor": 4
}
