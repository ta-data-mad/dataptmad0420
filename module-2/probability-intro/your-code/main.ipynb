{
 "cells": [
  {
   "cell_type": "markdown",
   "metadata": {},
   "source": [
    "# Introduction To Probability\n",
    "## Challenge 1\n",
    "\n",
    "A and B are events of a probability space with $(\\omega, \\sigma, P)$ such that $P(A) = 0.3$, $P(B) = 0.6$ and $P(A \\cap B) = 0.1$\n",
    "\n",
    "Which of the following statements are false?\n",
    "* $P(A \\cup B) = 0.6$\n",
    "* $P(A \\cap B^{C}) = 0.2$\n",
    "* $P(A \\cap (B \\cup B^{C})) = 0.4$\n",
    "* $P(A^{C} \\cap B^{C}) = 0.3$\n",
    "* $P((A \\cap B)^{C}) = 0.9$"
   ]
  },
  {
   "cell_type": "code",
   "execution_count": 5,
   "metadata": {
    "collapsed": false
   },
   "outputs": [
    {
     "name": "stdout",
     "output_type": "stream",
     "text": [
      "         \n",
      "P(A U B) = 0.6 is False\n",
      "         \n",
      "Explanation:\n",
      "          P(A ∪ B) = [P(A)= 0.3] + [P(B) = 0.6] - [P(A ∩ B) = 0.1] = 0.8 \n",
      "          P(A ∪ B) = 0.8\n"
     ]
    }
   ],
   "source": [
    "\n",
    "print(\"         \")\n",
    "print(\"P(A U B) = 0.6 is False\")\n",
    "print(\"         \")\n",
    "print(\"Explanation:\")\n",
    "print(\"          P(A ∪ B) = [P(A)= 0.3] + [P(B) = 0.6] - [P(A ∩ B) = 0.1] = 0.8 \")\n",
    "print(\"          P(A ∪ B) = 0.8\")"
   ]
  },
  {
   "cell_type": "markdown",
   "metadata": {},
   "source": [
    "## Challenge 2\n",
    "There is a box with 10 white balls, 12 red balls and 8 black balls. Calculate the probability of:\n",
    "* Taking a white ball out.\n",
    "* Taking a white ball out after taking a black ball out.\n",
    "* Taking a red ball out after taking a black and a red ball out.\n",
    "* Taking a red ball out after taking a black and a red ball out with reposition.\n",
    "\n",
    "**Hint**: Reposition means putting back the ball into the box after taking it out."
   ]
  },
  {
   "cell_type": "code",
   "execution_count": 6,
   "metadata": {
    "collapsed": false
   },
   "outputs": [
    {
     "name": "stdout",
     "output_type": "stream",
     "text": [
      "Taking a white ball out:\n",
      "         \n",
      "             -- P = 10 / (12 + 8 + 10) = 1/3\n",
      "         \n",
      "Taking a white ball out after taking a black ball out:\n",
      "         \n",
      "             -- P = 10 / (30 - 1) = 10/29\n",
      "         \n",
      "Taking a red ball out after taking a black and a red ball out:\n",
      "         \n",
      "             -- P = (12 - 1) / (30 - 2) = 11/28\n",
      "         \n",
      "Taking a red ball out after taking a black and a red ball out with reposition:\n",
      "         \n",
      "             -- P = (12 - 1) / (30 - 2 + 1) = 11/29\n",
      "         \n"
     ]
    }
   ],
   "source": [
    "\n",
    "print(\"Taking a white ball out:\")\n",
    "print(\"         \")\n",
    "print(\"             -- P = 10 / (12 + 8 + 10) = 1/3\")\n",
    "print(\"         \")\n",
    "print(\"Taking a white ball out after taking a black ball out:\")\n",
    "print(\"         \")\n",
    "print(\"             -- P = 10 / (30 - 1) = 10/29\")\n",
    "print(\"         \")\n",
    "print(\"Taking a red ball out after taking a black and a red ball out:\")\n",
    "print(\"         \")\n",
    "print(\"             -- P = (12 - 1) / (30 - 2) = 11/28\")\n",
    "print(\"         \")\n",
    "print(\"Taking a red ball out after taking a black and a red ball out with reposition:\")\n",
    "print(\"         \")\n",
    "print(\"             -- P = (12 - 1) / (30 - 2 + 1) = 11/29\")\n",
    "print(\"         \")"
   ]
  },
  {
   "cell_type": "markdown",
   "metadata": {},
   "source": [
    "## Challenge 3\n",
    "\n",
    "You are planning to go on a picnic today but the morning is cloudy. You hate rain so you don't know whether to go out or stay home! To help you make a decision, you gather the following data about rainy days:\n",
    "\n",
    "* 50% of all rainy days start off cloudy!\n",
    "* Cloudy mornings are common. About 40% of days start cloudy. \n",
    "* This month is usually dry so only 3 of 30 days (10%) tend to be rainy. \n",
    "\n",
    "What is the chance of rain during the day?"
   ]
  },
  {
   "cell_type": "code",
   "execution_count": 10,
   "metadata": {
    "collapsed": false
   },
   "outputs": [
    {
     "name": "stdout",
     "output_type": "stream",
     "text": [
      "         \n",
      "The chance is: \n",
      "         \n",
      "     -- P( Rainy / Cloudy ) = 1/8\n",
      "         \n"
     ]
    }
   ],
   "source": [
    "print(\"         \")\n",
    "print(\"The chance is: \")\n",
    "print(\"         \")\n",
    "print(\"     -- P( Rainy / Cloudy ) = 1/8\")\n",
    "print(\"         \")"
   ]
  },
  {
   "cell_type": "markdown",
   "metadata": {},
   "source": [
    "## Challenge 4\n",
    "\n",
    "One thousand people were asked through a telephone survey whether they thought more street lighting is needed at night or not.\n",
    "\n",
    "Out of the 480 men that answered the survey, 324 said yes and 156 said no. On the other hand, out of the 520 women that answered, 351 said yes and 169 said no. \n",
    "\n",
    "We wonder if men and women have a different opinions about the street lighting matter. Is gender relevant or irrelevant to the question?\n",
    "\n",
    "Consider the following events:\n",
    "- The answer is yes, so the person that answered thinks that more street lighting is needed.\n",
    "- The person who answered is a man.\n",
    "\n",
    "We want to know if these events are independent, that is, if the fact of wanting more light depends on whether one is male or female. Are these events independent or not?\n",
    "\n",
    "**Hint**: To clearly compare the answers by gender, it is best to place the data in a table."
   ]
  },
  {
   "cell_type": "code",
   "execution_count": 4,
   "metadata": {
    "collapsed": false
   },
   "outputs": [
    {
     "data": {
      "text/plain": [
       "[0.675, 0.325, 0.675, 0.325]"
      ]
     },
     "execution_count": 4,
     "metadata": {},
     "output_type": "execute_result"
    }
   ],
   "source": [
    "# your code here\n",
    "\n",
    "Pm_yes =324/480\n",
    "Pm_no =156/480\n",
    "\n",
    "Pw_yes =351/520\n",
    "Pw_no =169/520\n",
    "\n",
    "lst=[Pm_yes, Pm_no, Pw_yes, Pw_no]\n",
    "\n",
    "# lst equal proportion"
   ]
  },
  {
   "cell_type": "code",
   "execution_count": 11,
   "metadata": {
    "collapsed": false
   },
   "outputs": [
    {
     "name": "stdout",
     "output_type": "stream",
     "text": [
      "         \n",
      "Said No:\n",
      "         \n",
      "     -- P( No/ Men ) = 0.325\n",
      "     -- P( No/ Men ) = 0.325\n",
      "     -- P(No) = 0.325\n",
      "         \n",
      "Said Yes:\n",
      "         \n",
      "     -- P( Yes/ Men ) = 0.675\n",
      "     -- P( Yes/ Men ) = 0.675\n",
      "     -- P(Yes) = 0.675\n",
      "         \n",
      "THIS EVENTS ARE INDEPENDENT\n"
     ]
    }
   ],
   "source": [
    "print(\"         \")\n",
    "print(\"Said No:\")\n",
    "print(\"         \")\n",
    "print(\"     -- P( No/ Men ) = 0.325\")\n",
    "print(\"     -- P( No/ Men ) = 0.325\")\n",
    "print(\"     -- P(No) = 0.325\")\n",
    "print(\"         \")\n",
    "print(\"Said Yes:\")\n",
    "print(\"         \")\n",
    "print(\"     -- P( Yes/ Men ) = 0.675\")\n",
    "print(\"     -- P( Yes/ Men ) = 0.675\")\n",
    "print(\"     -- P(Yes) = 0.675\")\n",
    "print(\"         \")\n",
    "print(\"THIS EVENTS ARE INDEPENDENT\")"
   ]
  },
  {
   "cell_type": "code",
   "execution_count": null,
   "metadata": {
    "collapsed": true
   },
   "outputs": [],
   "source": []
  }
 ],
 "metadata": {
  "kernelspec": {
   "display_name": "Python 3",
   "language": "python",
   "name": "python3"
  },
  "language_info": {
   "codemirror_mode": {
    "name": "ipython",
    "version": 3
   },
   "file_extension": ".py",
   "mimetype": "text/x-python",
   "name": "python",
   "nbconvert_exporter": "python",
   "pygments_lexer": "ipython3",
   "version": "3.5.4"
  }
 },
 "nbformat": 4,
 "nbformat_minor": 2
}
