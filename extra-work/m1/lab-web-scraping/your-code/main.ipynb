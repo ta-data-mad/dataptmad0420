{
 "cells": [
  {
   "cell_type": "markdown",
   "metadata": {},
   "source": [
    "# Web Scraping Lab\n",
    "\n",
    "You will find in this notebook some scrapy exercises to practise your scraping skills.\n",
    "\n",
    "**Tips:**\n",
    "\n",
    "- Check the response status code for each request to ensure you have obtained the intended content.\n",
    "- Print the response text in each request to understand the kind of info you are getting and its format.\n",
    "- Check for patterns in the response text to extract the data/info requested in each question.\n",
    "- Visit the urls below and take a look at their source code through Chrome DevTools. You'll need to identify the html tags, special class names, etc used in the html content you are expected to extract.\n",
    "\n",
    "**Resources**:\n",
    "- [Requests library](http://docs.python-requests.org/en/master/#the-user-guide)\n",
    "- [Beautiful Soup Doc](https://www.crummy.com/software/BeautifulSoup/bs4/doc/)\n",
    "- [Urllib](https://docs.python.org/3/library/urllib.html#module-urllib)\n",
    "- [re lib](https://docs.python.org/3/library/re.html)\n",
    "- [lxml lib](https://lxml.de/)\n",
    "- [Scrapy](https://scrapy.org/)\n",
    "- [List of HTTP status codes](https://en.wikipedia.org/wiki/List_of_HTTP_status_codes)\n",
    "- [HTML basics](http://www.simplehtmlguide.com/cheatsheet.php)\n",
    "- [CSS basics](https://www.cssbasics.com/#page_start)"
   ]
  },
  {
   "cell_type": "markdown",
   "metadata": {},
   "source": [
    "#### Below are the libraries and modules you may need. `requests`,  `BeautifulSoup` and `pandas` are already imported for you. If you prefer to use additional libraries feel free to do it."
   ]
  },
  {
   "cell_type": "code",
   "execution_count": 1,
   "metadata": {
    "collapsed": false
   },
   "outputs": [],
   "source": [
    "import requests\n",
    "from bs4 import BeautifulSoup\n",
    "import pandas as pd\n",
    "import re\n",
    "\n",
    "#from selenium import webdriver\n",
    "#from selenium.webdriver.common.keys import Keys"
   ]
  },
  {
   "cell_type": "markdown",
   "metadata": {},
   "source": [
    "#### Download, parse (using BeautifulSoup), and print the content from the Trending Developers page from GitHub:"
   ]
  },
  {
   "cell_type": "code",
   "execution_count": 2,
   "metadata": {
    "collapsed": true
   },
   "outputs": [],
   "source": [
    "# This is the url you will scrape in this exercise\n",
    "url_1 = 'https://github.com/trending/developers'"
   ]
  },
  {
   "cell_type": "code",
   "execution_count": 3,
   "metadata": {
    "collapsed": false
   },
   "outputs": [
    {
     "data": {
      "text/plain": [
       "[<meta charset=\"utf-8\"/>,\n",
       " <link href=\"https://github.githubassets.com\" rel=\"dns-prefetch\"/>,\n",
       " <link href=\"https://avatars0.githubusercontent.com\" rel=\"dns-prefetch\"/>,\n",
       " <link href=\"https://avatars1.githubusercontent.com\" rel=\"dns-prefetch\"/>,\n",
       " <link href=\"https://avatars2.githubusercontent.com\" rel=\"dns-prefetch\"/>,\n",
       " <link href=\"https://avatars3.githubusercontent.com\" rel=\"dns-prefetch\"/>,\n",
       " <link href=\"https://github-cloud.s3.amazonaws.com\" rel=\"dns-prefetch\"/>,\n",
       " <link href=\"https://user-images.githubusercontent.com/\" rel=\"dns-prefetch\"/>,\n",
       " <link crossorigin=\"anonymous\" href=\"https://github.githubassets.com/assets/frameworks-6b752f8d8c22501de4eee305369d4309.css\" integrity=\"sha512-a3UvjYwiUB3k7uMFNp1DCYYo/ZZKpVWE6FJxoaoiWV2bjyvUUTiWzgEiq4wSwS7pBL7sEZhQnJ2SytUH9ar/Sw==\" media=\"all\" rel=\"stylesheet\"/>,\n",
       " <link crossorigin=\"anonymous\" href=\"https://github.githubassets.com/assets/site-72856ad2f0717788e1749424b536efbf.css\" integrity=\"sha512-coVq0vBxd4jhdJQktTbvvxOMjCq7cujGRd6AY86J5bqRiWgFr5wNtVhIKCvAsJXX5khdSiPAIiW2aDDW+G39AA==\" media=\"all\" rel=\"stylesheet\"/>,\n",
       " <link crossorigin=\"anonymous\" href=\"https://github.githubassets.com/assets/github-8d51d262af84e62401ed4481ded7fb0c.css\" integrity=\"sha512-jVHSYq+E5iQB7USB3tf7DAotwO7uFl3aMhyb3JiRwrNWA10dznbMTh1hwIm6gpUr3EqycF35KJXw3tTWfsBUsA==\" media=\"all\" rel=\"stylesheet\"/>,\n",
       " <script crossorigin=\"anonymous\" defer=\"defer\" integrity=\"sha512-8K2vvwbW+6H27Nad5ydg8PA2/aMD/LKq+EiK9s0U0hhVZxCI2tWBsYk9beAtisRw2j+Or5k2/F+6dk02nmj/PA==\" src=\"https://github.githubassets.com/assets/environment-f0adafbf.js\" type=\"application/javascript\"></script>,\n",
       " <script crossorigin=\"anonymous\" defer=\"defer\" integrity=\"sha512-YEtshRLHr+2BeE23dp5rtQdHF4emi1s7HZto12f9a1bGq+ebWp9ScLXgCuLqLJk5ZfwWxORBfBUprys3XHMLHA==\" src=\"https://github.githubassets.com/assets/chunk-frameworks-604b6c85.js\" type=\"application/javascript\"></script>,\n",
       " <script crossorigin=\"anonymous\" defer=\"defer\" integrity=\"sha512-AsYa7L3J5bYnuUNrVC1tcCifuOPAby6GuHXmS8QCRbacHT9e6b7iZenxp4Qt/TY2qeMqrdHNHnivAsEKn9e9zw==\" src=\"https://github.githubassets.com/assets/chunk-vendor-02c61aec.js\" type=\"application/javascript\"></script>,\n",
       " <script crossorigin=\"anonymous\" defer=\"defer\" integrity=\"sha512-2oePV8Pz7RWigIXHguyavGbbmDHheZIkN63Kg15MsqtQkT7eADGculCWhiabeRc7xRZOJY4v2Axb5QCEJY8sig==\" src=\"https://github.githubassets.com/assets/behaviors-da878f57.js\" type=\"application/javascript\"></script>,\n",
       " <script crossorigin=\"anonymous\" data-module-id=\"./chunk-contributions-spider-graph.js\" data-src=\"https://github.githubassets.com/assets/chunk-contributions-spider-graph-3f660c92.js\" defer=\"defer\" integrity=\"sha512-P2YMkqfXJOOfxTTkNHbblY5ks3U+e9w9tiVyK9syrE5+JmlaCg1kUiuT1DfbyJXwaOLaRLT3zam2r+QrxTZ3iw==\" type=\"application/javascript\"></script>,\n",
       " <script crossorigin=\"anonymous\" data-module-id=\"./chunk-drag-drop.js\" data-src=\"https://github.githubassets.com/assets/chunk-drag-drop-a1b311f2.js\" defer=\"defer\" integrity=\"sha512-obMR8mPKx8OvqRe34LgnUcxeJ1qujiA4ND3H6UX13ExMlA/WfHLjEzXRmgGRcRvN/8J1nzc+Z+jgz/PLTFy6zg==\" type=\"application/javascript\"></script>,\n",
       " <script crossorigin=\"anonymous\" data-module-id=\"./chunk-jump-to.js\" data-src=\"https://github.githubassets.com/assets/chunk-jump-to-a3de7008.js\" defer=\"defer\" integrity=\"sha512-o95wCKfOqL8EX5reoP68bQ/mUPvLnu0T5LaPZLAv0xQALhTP0XqriKBrnmOXbo6BVVM9eNnesNYw8rA37Ta60w==\" type=\"application/javascript\"></script>,\n",
       " <script crossorigin=\"anonymous\" data-module-id=\"./chunk-profile-pins-element.js\" data-src=\"https://github.githubassets.com/assets/chunk-profile-pins-element-b5c1f8c4.js\" defer=\"defer\" integrity=\"sha512-tcH4xCRuMBAh1PruDaiwGnRIbHlF6bGLhxyCQ16uqok1cV5QFMguVPWJtN9KI0jGQOgN+Pha3+uOUXhXdfK/qw==\" type=\"application/javascript\"></script>,\n",
       " <script crossorigin=\"anonymous\" data-module-id=\"./chunk-randomColor.js\" data-src=\"https://github.githubassets.com/assets/chunk-randomColor-854a6b66.js\" defer=\"defer\" integrity=\"sha512-hUprZmPKGx2Ji0cJJ29yrNBTnfCQoEg+Ow0rEG6bVGXu0HcagYwfPS9a5oRdoqvkE+nSk4FkIaklkLvc7Jb5+g==\" type=\"application/javascript\"></script>,\n",
       " <script crossorigin=\"anonymous\" data-module-id=\"./chunk-runner-groups.js\" data-src=\"https://github.githubassets.com/assets/chunk-runner-groups-13e1fec0.js\" defer=\"defer\" integrity=\"sha512-E+H+wAtjiqutBvn2cnXzDIvmasIhYiS7i7JzOfFUwo+Ej8zT54OrJtP//RhwixnypgOpCF4JvqzYy6zOtORDmg==\" type=\"application/javascript\"></script>,\n",
       " <script crossorigin=\"anonymous\" data-module-id=\"./chunk-sortable-behavior.js\" data-src=\"https://github.githubassets.com/assets/chunk-sortable-behavior-a6414a80.js\" defer=\"defer\" integrity=\"sha512-pkFKgC9JFth/pgRqBLhELfLOltqYbv+r++HblYEsbFpg7rCimMCN4Q/8RvPYilY0QMGT0q9vlJj1vzzUXYk3Zw==\" type=\"application/javascript\"></script>,\n",
       " <script crossorigin=\"anonymous\" data-module-id=\"./chunk-tweetsodium.js\" data-src=\"https://github.githubassets.com/assets/chunk-tweetsodium-1c2118e4.js\" defer=\"defer\" integrity=\"sha512-HCEY5FUSNmHYIUILB/UYu4Q6dPhLDAtK/MCQibzObiq4PxHpAohvWEf1oTil7Z4uckwsZ8q5VgDlEHJNNJ+tNg==\" type=\"application/javascript\"></script>,\n",
       " <script crossorigin=\"anonymous\" data-module-id=\"./chunk-user-status-submit.js\" data-src=\"https://github.githubassets.com/assets/chunk-user-status-submit-7bedf406.js\" defer=\"defer\" integrity=\"sha512-e+30BriXsBu+fb/LGEU9gAzSwn25wRYzDDPpr2AA8jZJI9034xzRHYXjA9XhF+7ncBIGJ/uTD11G25/H0XyuZg==\" type=\"application/javascript\"></script>,\n",
       " <meta content=\"width=device-width\" name=\"viewport\"/>,\n",
       " <title>Trending  developers on GitHub today · GitHub</title>,\n",
       " <meta content=\"GitHub is where people build software. More than 50 million people use GitHub to discover, fork, and contribute to over 100 million projects.\" name=\"description\"/>,\n",
       " <link href=\"/opensearch.xml\" rel=\"search\" title=\"GitHub\" type=\"application/opensearchdescription+xml\"/>,\n",
       " <link href=\"https://github.com/fluidicon.png\" rel=\"fluid-icon\" title=\"GitHub\"/>,\n",
       " <meta content=\"1401488693436528\" property=\"fb:app_id\"/>,\n",
       " <meta content=\"app-id=1477376905\" name=\"apple-itunes-app\"/>,\n",
       " <meta content=\"https://github.com\" property=\"og:url\"/>,\n",
       " <meta content=\"GitHub\" property=\"og:site_name\"/>,\n",
       " <meta content=\"Build software better, together\" property=\"og:title\"/>,\n",
       " <meta content=\"GitHub is where people build software. More than 50 million people use GitHub to discover, fork, and contribute to over 100 million projects.\" property=\"og:description\"/>,\n",
       " <meta content=\"https://github.githubassets.com/images/modules/open_graph/github-logo.png\" property=\"og:image\"/>,\n",
       " <meta content=\"image/png\" property=\"og:image:type\"/>,\n",
       " <meta content=\"1200\" property=\"og:image:width\"/>,\n",
       " <meta content=\"1200\" property=\"og:image:height\"/>,\n",
       " <meta content=\"https://github.githubassets.com/images/modules/open_graph/github-mark.png\" property=\"og:image\"/>,\n",
       " <meta content=\"image/png\" property=\"og:image:type\"/>,\n",
       " <meta content=\"1200\" property=\"og:image:width\"/>,\n",
       " <meta content=\"620\" property=\"og:image:height\"/>,\n",
       " <meta content=\"https://github.githubassets.com/images/modules/open_graph/github-octocat.png\" property=\"og:image\"/>,\n",
       " <meta content=\"image/png\" property=\"og:image:type\"/>,\n",
       " <meta content=\"1200\" property=\"og:image:width\"/>,\n",
       " <meta content=\"620\" property=\"og:image:height\"/>,\n",
       " <meta content=\"github\" property=\"twitter:site\"/>,\n",
       " <meta content=\"13334762\" property=\"twitter:site:id\"/>,\n",
       " <meta content=\"github\" property=\"twitter:creator\"/>,\n",
       " <meta content=\"13334762\" property=\"twitter:creator:id\"/>,\n",
       " <meta content=\"summary_large_image\" property=\"twitter:card\"/>,\n",
       " <meta content=\"GitHub\" property=\"twitter:title\"/>,\n",
       " <meta content=\"GitHub is where people build software. More than 50 million people use GitHub to discover, fork, and contribute to over 100 million projects.\" property=\"twitter:description\"/>,\n",
       " <meta content=\"https://github.githubassets.com/images/modules/open_graph/github-logo.png\" property=\"twitter:image:src\"/>,\n",
       " <meta content=\"1200\" property=\"twitter:image:width\"/>,\n",
       " <meta content=\"1200\" property=\"twitter:image:height\"/>,\n",
       " <link href=\"https://github.githubassets.com/\" rel=\"assets\"/>,\n",
       " <meta content=\"CCF0:238A:599437:7FB0D4:5FAB4028\" data-pjax-transient=\"true\" name=\"request-id\"/>,\n",
       " <meta content=\"85539e7d6b057423ea133d89d823bc076bfdfe2eadf2457b416559207e5d1134\" data-pjax-transient=\"true\" name=\"html-safe-nonce\"/>,\n",
       " <meta content=\"eyJyZWZlcnJlciI6IiIsInJlcXVlc3RfaWQiOiJDQ0YwOjIzOEE6NTk5NDM3OjdGQjBENDo1RkFCNDAyOCIsInZpc2l0b3JfaWQiOiIxNTgyMjgxODU5Mjc1OTgxMjAiLCJyZWdpb25fZWRnZSI6ImZyYSIsInJlZ2lvbl9yZW5kZXIiOiJmcmEifQ==\" data-pjax-transient=\"true\" name=\"visitor-payload\"/>,\n",
       " <meta content=\"be83bf8a3d4bab7736ab0767aa36aaf1fe10d8dcde38a689e9e7c13487c29fa7\" data-pjax-transient=\"true\" name=\"visitor-hmac\"/>,\n",
       " <meta content=\"true\" data-pjax-transient=\"true\" name=\"cookie-consent-required\"/>,\n",
       " <meta content=\"\" data-pjax-transient=\"true\" name=\"github-keyboard-shortcuts\"/>,\n",
       " <meta data-pjax-transient=\"\" name=\"selected-link\" value=\"trending_developers\"/>,\n",
       " <meta content=\"c1kuD-K2HIVF635lypcsWPoD4kilo5-jA_wBFyT4uMY\" name=\"google-site-verification\"/>,\n",
       " <meta content=\"KT5gs8h0wvaagLKAVWq8bbeNwnZZK1r1XQysX3xurLU\" name=\"google-site-verification\"/>,\n",
       " <meta content=\"ZzhVyEFwb7w3e0-uOTltm8Jsck2F5StVihD0exw2fsA\" name=\"google-site-verification\"/>,\n",
       " <meta content=\"GXs5KoUUkNCoaAZn7wPN-t01Pywp9M3sEjnt_3_ZWPc\" name=\"google-site-verification\"/>,\n",
       " <meta content=\"collector.githubapp.com\" name=\"octolytics-host\"/>,\n",
       " <meta content=\"github\" name=\"octolytics-app-id\"/>,\n",
       " <meta content=\"https://collector.githubapp.com/github-external/browser_event\" name=\"octolytics-event-url\"/>,\n",
       " <meta class=\"js-octo-ga-id\" content=\"\" name=\"octolytics-dimension-ga_id\"/>,\n",
       " <meta class=\"js-ga-set\" content=\"Responsive\" data-pjax-transient=\"\" name=\"dimension10\"/>,\n",
       " <meta class=\"js-ga-set\" content=\"Logged Out\" name=\"dimension1\"/>,\n",
       " <meta content=\"github.com\" name=\"hostname\"/>,\n",
       " <meta content=\"\" name=\"user-login\"/>,\n",
       " <meta content=\"github.com\" name=\"expected-hostname\"/>,\n",
       " <meta content=\"MARKETPLACE_PENDING_INSTALLATIONS\" name=\"enabled-features\"/>,\n",
       " <meta content=\"e835b0add0d42fbbe649ebd762d6317878f9f8798aad98823dfa6fd580f94f7a\" http-equiv=\"x-pjax-version\"/>,\n",
       " <link crossorigin=\"anonymous\" href=\"https://github.githubassets.com/assets/site-72856ad2f0717788e1749424b536efbf.css\" integrity=\"sha512-coVq0vBxd4jhdJQktTbvvxOMjCq7cujGRd6AY86J5bqRiWgFr5wNtVhIKCvAsJXX5khdSiPAIiW2aDDW+G39AA==\" media=\"all\" rel=\"stylesheet\"/>,\n",
       " <link data-pjax-transient=\"\" href=\"https://github.com/trending/developers\" rel=\"canonical\"/>,\n",
       " <meta content=\"https://api.github.com/_private/browser/stats\" name=\"browser-stats-url\"/>,\n",
       " <meta content=\"https://api.github.com/_private/browser/errors\" name=\"browser-errors-url\"/>,\n",
       " <meta content=\"https://api.github.com/_private/browser/optimizely_client/errors\" name=\"browser-optimizely-client-errors-url\"/>,\n",
       " <link color=\"#000000\" href=\"https://github.githubassets.com/pinned-octocat.svg\" rel=\"mask-icon\"/>,\n",
       " <link class=\"js-site-favicon\" href=\"https://github.githubassets.com/favicons/favicon.png\" rel=\"alternate icon\" type=\"image/png\"/>,\n",
       " <link class=\"js-site-favicon\" href=\"https://github.githubassets.com/favicons/favicon.svg\" rel=\"icon\" type=\"image/svg+xml\"/>,\n",
       " <meta content=\"#1e2327\" name=\"theme-color\"/>,\n",
       " <link crossorigin=\"use-credentials\" href=\"/manifest.json\" rel=\"manifest\"/>]"
      ]
     },
     "execution_count": 3,
     "metadata": {},
     "output_type": "execute_result"
    }
   ],
   "source": [
    "# your code here\n",
    "\n",
    "# html = requests.get(url_1)\n",
    "html = requests.get(url_1).content\n",
    "\n",
    "\n",
    "# lxml is the parsing module\n",
    "\n",
    "soup = BeautifulSoup(html, 'lxml')\n",
    "soup.head()"
   ]
  },
  {
   "cell_type": "markdown",
   "metadata": {},
   "source": [
    "#### Display the names of the trending developers retrieved in the previous step.\n",
    "\n",
    "Your output should be a Python list of developer names. Each name should not contain any html tag.\n",
    "\n",
    "**Instructions:**\n",
    "\n",
    "1. Find out the html tag and class names used for the developer names. You can achieve this using Chrome DevTools.\n",
    "\n",
    "1. Use BeautifulSoup to extract all the html elements that contain the developer names.\n",
    "\n",
    "1. Use string manipulation techniques to replace whitespaces and linebreaks (i.e. `\\n`) in the *text* of each html element. Use a list to store the clean names.\n",
    "\n",
    "1. Print the list of names.\n",
    "\n",
    "Your output should look like below:\n",
    "\n",
    "```\n",
    "['trimstray (@trimstray)',\n",
    " 'joewalnes (JoeWalnes)',\n",
    " 'charlax (Charles-AxelDein)',\n",
    " 'ForrestKnight (ForrestKnight)',\n",
    " 'revery-ui (revery-ui)',\n",
    " 'alibaba (Alibaba)',\n",
    " 'Microsoft (Microsoft)',\n",
    " 'github (GitHub)',\n",
    " 'facebook (Facebook)',\n",
    " 'boazsegev (Bo)',\n",
    " 'google (Google)',\n",
    " 'cloudfetch',\n",
    " 'sindresorhus (SindreSorhus)',\n",
    " 'tensorflow',\n",
    " 'apache (TheApacheSoftwareFoundation)',\n",
    " 'DevonCrawford (DevonCrawford)',\n",
    " 'ARMmbed (ArmMbed)',\n",
    " 'vuejs (vuejs)',\n",
    " 'fastai (fast.ai)',\n",
    " 'QiShaoXuan (Qi)',\n",
    " 'joelparkerhenderson (JoelParkerHenderson)',\n",
    " 'torvalds (LinusTorvalds)',\n",
    " 'CyC2018',\n",
    " 'komeiji-satori (神楽坂覚々)',\n",
    " 'script-8']\n",
    " ```"
   ]
  },
  {
   "cell_type": "code",
   "execution_count": 10,
   "metadata": {
    "collapsed": false
   },
   "outputs": [
    {
     "data": {
      "text/plain": [
       "['Franck Nijhof ',\n",
       " 'Pariente Manuel ',\n",
       " 'Mike Penz ',\n",
       " 'JP Simard ',\n",
       " 'Siddharth Dushantha ',\n",
       " 'Philip Rideout ',\n",
       " 'Javier Suárez ',\n",
       " 'Sebastián Ramírez ',\n",
       " 'Colin Seymour ',\n",
       " 'William Chargin ',\n",
       " 'Anthony Sottile ',\n",
       " 'Jane Lusby ',\n",
       " 'Ariel Mashraki ',\n",
       " 'Gal Schlezinger ',\n",
       " 'XhmikosR ',\n",
       " 'Filip Skokan ',\n",
       " 'Megan Marsh ',\n",
       " 'Arvid Norberg ',\n",
       " 'Jason Axelson ',\n",
       " 'Gleb Bahmutov ',\n",
       " 'Sylvain Gugger ',\n",
       " 'Shreyas Patil ',\n",
       " 'Jonah Williams ',\n",
       " 'Bartlomiej Plotka ',\n",
       " 'Sibelius Seraphini ']"
      ]
     },
     "execution_count": 10,
     "metadata": {},
     "output_type": "execute_result"
    }
   ],
   "source": [
    "# your code here\n",
    "\n",
    "Result_Set = soup.find_all(\"h1\", {\"class\": \"h3 lh-condensed\"})\n",
    "developers = [ i.getText().replace('\\n','').replace('  ','') for i in Result_Set]\n",
    "developers"
   ]
  },
  {
   "cell_type": "markdown",
   "metadata": {},
   "source": [
    "#### Display the trending Python repositories in GitHub.\n",
    "\n",
    "The steps to solve this problem is similar to the previous one except that you need to find out the repository names instead of developer names."
   ]
  },
  {
   "cell_type": "code",
   "execution_count": 13,
   "metadata": {
    "collapsed": true
   },
   "outputs": [],
   "source": [
    "# This is the url you will scrape in this exercise\n",
    "url_2 = 'https://github.com/trending/python?since=daily'"
   ]
  },
  {
   "cell_type": "code",
   "execution_count": 19,
   "metadata": {
    "collapsed": false
   },
   "outputs": [
    {
     "data": {
      "text/plain": [
       "['donnemartin/system-design-primer',\n",
       " 'facebookresearch/pifuhd',\n",
       " 'gordicaleksa/pytorch-original-transformer',\n",
       " 'allenai/allennlp',\n",
       " 'iGhibli/iOS-DeviceSupport',\n",
       " 'apache/airflow',\n",
       " 'mlflow/mlflow',\n",
       " 'PyTorchLightning/pytorch-lightning',\n",
       " 'django/django',\n",
       " 'hudson-and-thames/mlfinlab',\n",
       " 'hankcs/HanLP',\n",
       " 'PrefectHQ/prefect',\n",
       " 'Pitt-CSC/Summer2021-Internships',\n",
       " 'guardicore/monkey',\n",
       " 'QUANTAXIS/QUANTAXIS',\n",
       " 'google/trax',\n",
       " 'kornia/kornia',\n",
       " 'jackfrued/Python-100-Days',\n",
       " 'facebook/prophet',\n",
       " 'tiangolo/fastapi',\n",
       " 'geohot/tinygrad',\n",
       " 'samuelcolvin/pydantic',\n",
       " 'localstack/localstack',\n",
       " 'deepset-ai/haystack',\n",
       " 'docker/compose']"
      ]
     },
     "execution_count": 19,
     "metadata": {},
     "output_type": "execute_result"
    }
   ],
   "source": [
    "# your code here\n",
    "\n",
    "#html = requests.get(url_2)\n",
    "html = requests.get(url_2).content\n",
    "soup = BeautifulSoup(html, 'lxml')\n",
    "Result_Set = soup.find_all(\"h1\", {\"class\": \"h3 lh-condensed\"})\n",
    "Repositories = [ i.getText().replace('\\n','').replace(' ','') for i in Result_Set]\n",
    "Repositories\n"
   ]
  },
  {
   "cell_type": "markdown",
   "metadata": {},
   "source": [
    "#### Display all the image links from Walt Disney wikipedia page."
   ]
  },
  {
   "cell_type": "code",
   "execution_count": 20,
   "metadata": {
    "collapsed": true
   },
   "outputs": [],
   "source": [
    "# This is the url you will scrape in this exercise\n",
    "url_3 = 'https://en.wikipedia.org/wiki/Walt_Disney'"
   ]
  },
  {
   "cell_type": "code",
   "execution_count": 23,
   "metadata": {
    "collapsed": false
   },
   "outputs": [
    {
     "data": {
      "text/plain": [
       "['/wiki/File:Walt_Disney_1946.JPG',\n",
       " '/wiki/File:Walt_Disney_1942_signature.svg',\n",
       " '/wiki/File:Walt_Disney_envelope_ca._1921.jpg',\n",
       " '/wiki/File:Trolley_Troubles_poster.jpg',\n",
       " '/wiki/File:Walt_Disney_and_his_cartoon_creation_%22Mickey_Mouse%22_-_National_Board_of_Review_Magazine.jpg',\n",
       " '/wiki/File:Steamboat-willie.jpg',\n",
       " '/wiki/File:Walt_Disney_1935.jpg',\n",
       " '/wiki/File:Walt_Disney_Snow_white_1937_trailer_screenshot_(13).jpg',\n",
       " '/wiki/File:Disney_drawing_goofy.jpg',\n",
       " '/wiki/File:DisneySchiphol1951.jpg',\n",
       " '/wiki/File:WaltDisneyplansDisneylandDec1954.jpg',\n",
       " '/wiki/File:Walt_disney_portrait_right.jpg',\n",
       " '/wiki/File:Walt_Disney_Grave.JPG',\n",
       " '/wiki/File:Roy_O._Disney_with_Company_at_Press_Conference.jpg',\n",
       " '/wiki/File:Disney_Display_Case.JPG',\n",
       " '/wiki/File:Disney1968.jpg',\n",
       " '/wiki/File:Animation_disc.svg',\n",
       " '/wiki/File:P_vip.svg',\n",
       " '/wiki/File:Magic_Kingdom_castle.jpg',\n",
       " '/wiki/File:Video-x-generic.svg',\n",
       " '/wiki/File:Flag_of_Los_Angeles_County,_California.svg',\n",
       " '/wiki/File:Blank_television_set.svg',\n",
       " '/wiki/File:Flag_of_the_United_States.svg']"
      ]
     },
     "execution_count": 23,
     "metadata": {},
     "output_type": "execute_result"
    }
   ],
   "source": [
    "# your code here\n",
    "\n",
    "html = requests.get(url_3).content\n",
    "soup = BeautifulSoup(html, 'lxml')\n",
    "Result_Set = soup.find_all('a', {\"class\": \"image\", 'href': True})\n",
    "Images=[i['href'] for i in Result_Set]\n",
    "Images\n"
   ]
  },
  {
   "cell_type": "markdown",
   "metadata": {},
   "source": [
    "#### Retrieve an arbitary Wikipedia page of \"Python\" and create a list of links on that page."
   ]
  },
  {
   "cell_type": "code",
   "execution_count": 24,
   "metadata": {
    "collapsed": true
   },
   "outputs": [],
   "source": [
    "# This is the url you will scrape in this exercise\n",
    "url_4 ='https://en.wikipedia.org/wiki/Python' "
   ]
  },
  {
   "cell_type": "code",
   "execution_count": 34,
   "metadata": {
    "collapsed": false
   },
   "outputs": [
    {
     "data": {
      "text/plain": [
       "['https://en.wiktionary.org/wiki/Python',\n",
       " 'https://en.wiktionary.org/wiki/python',\n",
       " '/wiki/Pythons',\n",
       " '/wiki/Python_(genus)',\n",
       " '/wiki/Python_(programming_language)',\n",
       " '/wiki/CMU_Common_Lisp',\n",
       " '/wiki/PERQ#PERQ_3',\n",
       " '/wiki/Python_of_Aenus',\n",
       " '/wiki/Python_(painter)',\n",
       " '/wiki/Python_of_Byzantium',\n",
       " '/wiki/Python_of_Catana',\n",
       " '/wiki/Python_Anghelo',\n",
       " '/wiki/Python_(Efteling)',\n",
       " '/wiki/Python_(Busch_Gardens_Tampa_Bay)',\n",
       " '/wiki/Python_(Coney_Island,_Cincinnati,_Ohio)',\n",
       " '/wiki/Python_(automobile_maker)',\n",
       " '/wiki/Python_(Ford_prototype)',\n",
       " '/wiki/Python_(missile)',\n",
       " '/wiki/Python_(nuclear_primary)',\n",
       " '/wiki/Colt_Python',\n",
       " '/wiki/PYTHON',\n",
       " '/wiki/Python_(film)',\n",
       " '/wiki/Python_(mythology)',\n",
       " '/wiki/Monty_Python',\n",
       " '/wiki/Python_(Monty)_Pictures',\n",
       " '/wiki/Cython',\n",
       " '/wiki/Pyton',\n",
       " '/wiki/Pithon',\n",
       " '/wiki/File:Disambig_gray.svg',\n",
       " '/wiki/Help:Disambiguation']"
      ]
     },
     "execution_count": 34,
     "metadata": {},
     "output_type": "execute_result"
    }
   ],
   "source": [
    "# your code here\n",
    "\n",
    "html = requests.get(url_4).content\n",
    "soup = BeautifulSoup(html, \"lxml\")\n",
    "\n",
    "ResultSet_1 = soup.find_all('div', {'class':'mw-parser-output'})\n",
    "ResultSet_2 = ResultSet_1[0].find_all(['a'],{'href':re.compile('/wiki/')})\n",
    "Links=[i['href'] for i in ResultSet_2]\n",
    "Links\n"
   ]
  },
  {
   "cell_type": "markdown",
   "metadata": {},
   "source": [
    "#### Find the number of titles that have changed in the United States Code since its last release point."
   ]
  },
  {
   "cell_type": "code",
   "execution_count": 36,
   "metadata": {
    "collapsed": true
   },
   "outputs": [],
   "source": [
    "# This is the url you will scrape in this exercise\n",
    "url_5 = 'http://uscode.house.gov/download/download.shtml'"
   ]
  },
  {
   "cell_type": "code",
   "execution_count": 47,
   "metadata": {
    "collapsed": false
   },
   "outputs": [
    {
     "name": "stdout",
     "output_type": "stream",
     "text": [
      "The number of titles that have changed in the United States Code since its last release point: 18\n",
      "And the Titles are:\n",
      "         -- Title7-Agriculture\n",
      "         -- Title11-Bankruptcy\n",
      "         -- Title13-Census\n",
      "         -- Title14-CoastGuard\n",
      "         -- Title15-CommerceandTrade\n",
      "         -- Title16-Conservation\n",
      "         -- Title21-FoodandDrugs\n",
      "         -- Title24-HospitalsandAsylums\n",
      "         -- Title27-IntoxicatingLiquors\n",
      "         -- Title32-NationalGuard\n",
      "         -- Title33-NavigationandNavigableWaters\n",
      "         -- Title34-CrimeControlandLawEnforcement\n",
      "         -- Title36-PatrioticandNationalObservances,Ceremonies,andOrganizations\n",
      "         -- Title38-Veterans'Benefits\n",
      "         -- Title42-ThePublicHealthandWelfare\n",
      "         -- Title45-Railroads\n",
      "         -- Title49-Transportation\n",
      "         -- Title54-NationalParkServiceandRelatedPrograms\n"
     ]
    }
   ],
   "source": [
    "# your code here\n",
    "\n",
    "html = requests.get(url_5).content\n",
    "soup = BeautifulSoup(html, 'lxml')\n",
    "\n",
    "ResultSet = soup.find_all('div',{'class': 'usctitlechanged'})\n",
    "Titles = [i.getText().replace('\\n','').replace(' ','').replace('٭','') for i in ResultSet]\n",
    "print(\"The number of titles that have changed in the United States Code since its last release point:\",len(Titles))\n",
    "print(\"And the Titles are:\")\n",
    "for i in Titles:\n",
    "    print(\"         --\",i)"
   ]
  },
  {
   "cell_type": "markdown",
   "metadata": {},
   "source": [
    "#### Find a Python list with the top ten FBI's Most Wanted names."
   ]
  },
  {
   "cell_type": "code",
   "execution_count": 42,
   "metadata": {
    "collapsed": true
   },
   "outputs": [],
   "source": [
    "# This is the url you will scrape in this exercise\n",
    "url_6 = 'https://www.fbi.gov/wanted/topten'"
   ]
  },
  {
   "cell_type": "code",
   "execution_count": 46,
   "metadata": {
    "collapsed": false
   },
   "outputs": [
    {
     "name": "stdout",
     "output_type": "stream",
     "text": [
      "The most wanted are:\n",
      "         -- ARNOLDOJIMENEZ\n",
      "         -- JASONDEREKBROWN\n",
      "         -- ALEXISFLORES\n",
      "         -- JOSERODOLFOVILLARREAL-HERNANDEZ\n",
      "         -- EUGENEPALMER\n",
      "         -- RAFAELCARO-QUINTERO\n",
      "         -- ROBERTWILLIAMFISHER\n",
      "         -- BHADRESHKUMARCHETANBHAIPATEL\n",
      "         -- ALEJANDROROSALESCASTILLO\n",
      "         -- YASERABDELSAID\n"
     ]
    }
   ],
   "source": [
    "# your code here\n",
    "\n",
    "html = requests.get(url_6).content\n",
    "soup = BeautifulSoup(html, 'lxml')\n",
    "\n",
    "ResultSet_1 = soup.find_all('div', {'class':'query-results pat-pager'})\n",
    "ResultSet_2 = ResultSet_1[0].find_all('h3',{'class':'title'})\n",
    "lst = [ i.text for i in ResultSet_2 ]\n",
    "Clean_data=[ re.sub(r'\\s','',i) for i in lst]\n",
    "\n",
    "print(\"The most wanted are:\") \n",
    "for i in Clean_data:\n",
    "    print(\"         --\",i)"
   ]
  },
  {
   "cell_type": "markdown",
   "metadata": {},
   "source": [
    "####  Display the 20 latest earthquakes info (date, time, latitude, longitude and region name) by the EMSC as a pandas dataframe."
   ]
  },
  {
   "cell_type": "code",
   "execution_count": null,
   "metadata": {
    "collapsed": true
   },
   "outputs": [],
   "source": [
    "#hasta aqui el lab\n",
    "\n",
    "# This is the url you will scrape in this exercise\n",
    "url_7 = 'https://www.emsc-csem.org/Earthquake/'"
   ]
  },
  {
   "cell_type": "code",
   "execution_count": null,
   "metadata": {
    "collapsed": true
   },
   "outputs": [],
   "source": [
    "# your code here\n"
   ]
  },
  {
   "cell_type": "markdown",
   "metadata": {},
   "source": [
    "#### Count the number of tweets by a given Twitter account.\n",
    "Ask the user for the handle (@handle) of a twitter account. You will need to include a ***try/except block*** for account names not found. \n",
    "<br>***Hint:*** the program should count the number of tweets for any provided account."
   ]
  },
  {
   "cell_type": "code",
   "execution_count": null,
   "metadata": {
    "collapsed": true
   },
   "outputs": [],
   "source": [
    "# This is the url you will scrape in this exercise \n",
    "# You will need to add the account credentials to this url\n",
    "url = 'https://twitter.com/'"
   ]
  },
  {
   "cell_type": "code",
   "execution_count": null,
   "metadata": {
    "collapsed": true
   },
   "outputs": [],
   "source": [
    "# your code here"
   ]
  },
  {
   "cell_type": "markdown",
   "metadata": {},
   "source": [
    "#### Number of followers of a given twitter account\n",
    "Ask the user for the handle (@handle) of a twitter account. You will need to include a ***try/except block*** for account names not found. \n",
    "<br>***Hint:*** the program should count the followers for any provided account."
   ]
  },
  {
   "cell_type": "code",
   "execution_count": null,
   "metadata": {
    "collapsed": true
   },
   "outputs": [],
   "source": [
    "# This is the url you will scrape in this exercise \n",
    "# You will need to add the account credentials to this url\n",
    "url = 'https://twitter.com/'"
   ]
  },
  {
   "cell_type": "code",
   "execution_count": null,
   "metadata": {
    "collapsed": true
   },
   "outputs": [],
   "source": [
    "# your code here"
   ]
  },
  {
   "cell_type": "markdown",
   "metadata": {},
   "source": [
    "#### List all language names and number of related articles in the order they appear in wikipedia.org."
   ]
  },
  {
   "cell_type": "code",
   "execution_count": null,
   "metadata": {
    "collapsed": true
   },
   "outputs": [],
   "source": [
    "# This is the url you will scrape in this exercise\n",
    "url = 'https://www.wikipedia.org/'"
   ]
  },
  {
   "cell_type": "code",
   "execution_count": null,
   "metadata": {
    "collapsed": true
   },
   "outputs": [],
   "source": [
    "# your code here"
   ]
  },
  {
   "cell_type": "markdown",
   "metadata": {},
   "source": [
    "#### A list with the different kind of datasets available in data.gov.uk."
   ]
  },
  {
   "cell_type": "code",
   "execution_count": null,
   "metadata": {
    "collapsed": true
   },
   "outputs": [],
   "source": [
    "# This is the url you will scrape in this exercise\n",
    "url = 'https://data.gov.uk/'"
   ]
  },
  {
   "cell_type": "code",
   "execution_count": null,
   "metadata": {
    "collapsed": true
   },
   "outputs": [],
   "source": [
    "# your code here"
   ]
  },
  {
   "cell_type": "markdown",
   "metadata": {},
   "source": [
    "#### Display the top 10 languages by number of native speakers stored in a pandas dataframe."
   ]
  },
  {
   "cell_type": "code",
   "execution_count": null,
   "metadata": {
    "collapsed": true
   },
   "outputs": [],
   "source": [
    "# This is the url you will scrape in this exercise\n",
    "url = 'https://en.wikipedia.org/wiki/List_of_languages_by_number_of_native_speakers'"
   ]
  },
  {
   "cell_type": "code",
   "execution_count": null,
   "metadata": {
    "collapsed": true
   },
   "outputs": [],
   "source": [
    "# your code here"
   ]
  },
  {
   "cell_type": "markdown",
   "metadata": {},
   "source": [
    "## Bonus\n",
    "#### Scrape a certain number of tweets of a given Twitter account."
   ]
  },
  {
   "cell_type": "code",
   "execution_count": null,
   "metadata": {
    "collapsed": true
   },
   "outputs": [],
   "source": [
    "# This is the url you will scrape in this exercise \n",
    "# You will need to add the account credentials to this url\n",
    "url = 'https://twitter.com/'"
   ]
  },
  {
   "cell_type": "code",
   "execution_count": null,
   "metadata": {
    "collapsed": true
   },
   "outputs": [],
   "source": [
    "# your code here"
   ]
  },
  {
   "cell_type": "markdown",
   "metadata": {},
   "source": [
    "#### Display IMDB's top 250 data (movie name, initial release, director name and stars) as a pandas dataframe."
   ]
  },
  {
   "cell_type": "code",
   "execution_count": null,
   "metadata": {
    "collapsed": true
   },
   "outputs": [],
   "source": [
    "# This is the url you will scrape in this exercise \n",
    "url = 'https://www.imdb.com/chart/top'"
   ]
  },
  {
   "cell_type": "code",
   "execution_count": null,
   "metadata": {
    "collapsed": true
   },
   "outputs": [],
   "source": [
    "# your code here"
   ]
  },
  {
   "cell_type": "markdown",
   "metadata": {},
   "source": [
    "#### Display the movie name, year and a brief summary of the top 10 random movies (IMDB) as a pandas dataframe."
   ]
  },
  {
   "cell_type": "code",
   "execution_count": null,
   "metadata": {
    "collapsed": true
   },
   "outputs": [],
   "source": [
    "#This is the url you will scrape in this exercise\n",
    "url = 'http://www.imdb.com/chart/top'"
   ]
  },
  {
   "cell_type": "code",
   "execution_count": null,
   "metadata": {
    "collapsed": true
   },
   "outputs": [],
   "source": [
    "# your code here"
   ]
  },
  {
   "cell_type": "markdown",
   "metadata": {},
   "source": [
    "#### Find the live weather report (temperature, wind speed, description and weather) of a given city."
   ]
  },
  {
   "cell_type": "code",
   "execution_count": null,
   "metadata": {
    "collapsed": true
   },
   "outputs": [],
   "source": [
    "#https://openweathermap.org/current\n",
    "city = input('Enter the city: ')\n",
    "url = 'http://api.openweathermap.org/data/2.5/weather?'+'q='+city+'&APPID=b35975e18dc93725acb092f7272cc6b8&units=metric'"
   ]
  },
  {
   "cell_type": "code",
   "execution_count": null,
   "metadata": {
    "collapsed": true
   },
   "outputs": [],
   "source": [
    "# your code here"
   ]
  },
  {
   "cell_type": "markdown",
   "metadata": {},
   "source": [
    "#### Find the book name, price and stock availability as a pandas dataframe."
   ]
  },
  {
   "cell_type": "code",
   "execution_count": null,
   "metadata": {
    "collapsed": true
   },
   "outputs": [],
   "source": [
    "# This is the url you will scrape in this exercise. \n",
    "# It is a fictional bookstore created to be scraped. \n",
    "url = 'http://books.toscrape.com/'"
   ]
  },
  {
   "cell_type": "code",
   "execution_count": null,
   "metadata": {
    "collapsed": true
   },
   "outputs": [],
   "source": [
    "# your code here"
   ]
  }
 ],
 "metadata": {
  "kernelspec": {
   "display_name": "Python 3",
   "language": "python",
   "name": "python3"
  },
  "language_info": {
   "codemirror_mode": {
    "name": "ipython",
    "version": 3
   },
   "file_extension": ".py",
   "mimetype": "text/x-python",
   "name": "python",
   "nbconvert_exporter": "python",
   "pygments_lexer": "ipython3",
   "version": "3.5.4"
  }
 },
 "nbformat": 4,
 "nbformat_minor": 2
}
